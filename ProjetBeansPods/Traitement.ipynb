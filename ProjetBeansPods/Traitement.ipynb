{
 "cells": [
  {
   "cell_type": "markdown",
   "metadata": {},
   "source": [
    "<h1>Traitement des donnees</h1>"
   ]
  },
  {
   "cell_type": "code",
   "execution_count": null,
   "metadata": {},
   "outputs": [],
   "source": [
    "from pandas import read_csv\n",
    "import pandas as pd\n",
    "fichier='BeansDataSet.csv'\n",
    "data=read_csv(fichier)\n",
    "print(data)"
   ]
  },
  {
   "cell_type": "code",
   "execution_count": 1,
   "metadata": {},
   "outputs": [
    {
     "ename": "NameError",
     "evalue": "name 'data' is not defined",
     "output_type": "error",
     "traceback": [
      "\u001b[1;31m---------------------------------------------------------------------------\u001b[0m",
      "\u001b[1;31mNameError\u001b[0m                                 Traceback (most recent call last)",
      "Cell \u001b[1;32mIn[1], line 3\u001b[0m\n\u001b[0;32m      1\u001b[0m \u001b[38;5;28;01mfrom\u001b[39;00m \u001b[38;5;21;01mmatplotlib\u001b[39;00m \u001b[38;5;28;01mimport\u001b[39;00m pyplot \u001b[38;5;28;01mas\u001b[39;00m plt\n\u001b[0;32m      2\u001b[0m \u001b[38;5;28;01mimport\u001b[39;00m \u001b[38;5;21;01mseaborn\u001b[39;00m \u001b[38;5;28;01mas\u001b[39;00m \u001b[38;5;21;01msn\u001b[39;00m\n\u001b[1;32m----> 3\u001b[0m \u001b[38;5;28mprint\u001b[39m(data\u001b[38;5;241m.\u001b[39mdescribe())\n",
      "\u001b[1;31mNameError\u001b[0m: name 'data' is not defined"
     ]
    }
   ],
   "source": [
    "from matplotlib import pyplot as plt\n",
    "import seaborn as sn\n",
    "print(data.describe())"
   ]
  },
  {
   "cell_type": "code",
   "execution_count": null,
   "metadata": {},
   "outputs": [],
   "source": [
    "class_count=data.count()\n",
    "class_count"
   ]
  },
  {
   "cell_type": "code",
   "execution_count": null,
   "metadata": {},
   "outputs": [],
   "source": [
    "class_count=data.groupby('Region').size()\n",
    "print(class_count)"
   ]
  },
  {
   "cell_type": "code",
   "execution_count": null,
   "metadata": {},
   "outputs": [],
   "source": [
    "class_count=data.groupby('Channel').size()\n",
    "print(class_count)"
   ]
  },
  {
   "cell_type": "code",
   "execution_count": null,
   "metadata": {},
   "outputs": [],
   "source": [
    "class_count=data.groupby('Robusta').size()\n",
    "print(class_count)"
   ]
  },
  {
   "cell_type": "code",
   "execution_count": null,
   "metadata": {},
   "outputs": [],
   "source": [
    "import pandas as pd\n",
    "\n",
    "# Lecture du fichier CSV\n",
    "df = pd.read_csv('BeansDataSet.csv')\n",
    "\n",
    "# Somme des ventes Arabica toutes régions confondues\n",
    "total_arabica = df['Arabica'].sum()\n",
    "\n",
    "print(f\"Total des ventes Arabica toutes régions confondues : {total_arabica}\")\n"
   ]
  },
  {
   "cell_type": "code",
   "execution_count": null,
   "metadata": {},
   "outputs": [],
   "source": [
    "import pandas as pd\n",
    "\n",
    "# Lecture du fichier CSV\n",
    "df = pd.read_csv('BeansDataSet.csv')\n",
    "\n",
    "# Somme des ventes Arabica toutes régions confondues\n",
    "total_robusta = df['Robusta'].sum()\n",
    "\n",
    "print(f\"Total des ventes Robusta toutes régions confondues : {total_robusta}\")\n"
   ]
  },
  {
   "cell_type": "code",
   "execution_count": null,
   "metadata": {
    "vscode": {
     "languageId": "ruby"
    }
   },
   "outputs": [],
   "source": [
    "import pandas as pd\n",
    "\n",
    "# Lecture du fichier CSV\n",
    "df = pd.read_csv('BeansDataSet.csv')\n",
    "\n",
    "# Somme des ventes Arabica toutes régions confondues\n",
    "total_espresso = df['Espresso'].sum()\n",
    "\n",
    "print(f\"Total des ventes Espresso toutes régions confondues : {total_espresso}\")\n"
   ]
  },
  {
   "cell_type": "code",
   "execution_count": null,
   "metadata": {},
   "outputs": [],
   "source": [
    "import pandas as pd\n",
    "\n",
    "# Lecture du fichier CSV\n",
    "df = pd.read_csv('BeansDataSet.csv')\n",
    "\n",
    "# Somme des ventes Arabica toutes régions confondues\n",
    "total_Lungo = df['Lungo'].sum()\n",
    "\n",
    "print(f\"Total des ventes Lungo toutes régions confondues : {total_Lungo}\")\n"
   ]
  },
  {
   "cell_type": "code",
   "execution_count": null,
   "metadata": {},
   "outputs": [],
   "source": [
    "import pandas as pd\n",
    "\n",
    "# Lecture du fichier CSV\n",
    "df = pd.read_csv('BeansDataSet.csv')\n",
    "\n",
    "# Somme des ventes Arabica toutes régions confondues\n",
    "total_Latte = df['Latte'].sum()\n",
    "\n",
    "print(f\"Total des ventes Latte toutes régions confondues : {total_Latte}\")\n"
   ]
  },
  {
   "cell_type": "code",
   "execution_count": null,
   "metadata": {},
   "outputs": [],
   "source": [
    "import pandas as pd\n",
    "\n",
    "# Lecture du fichier CSV\n",
    "df = pd.read_csv('BeansDataSet.csv')\n",
    "\n",
    "# Somme des ventes Arabica toutes régions confondues\n",
    "total_Cappuccino = df['Cappuccino'].sum()\n",
    "\n",
    "print(f\"Total des ventes Cappuccino toutes régions confondues : {total_Cappuccino}$\")\n"
   ]
  },
  {
   "cell_type": "code",
   "execution_count": null,
   "metadata": {},
   "outputs": [],
   "source": [
    "import pandas as pd\n",
    "\n",
    "# Lecture du fichier CSV\n",
    "df = pd.read_csv('BeansDataSet.csv')\n",
    "\n",
    "# Somme des ventes Arabica toutes régions confondues\n",
    "total_vente_global=total_arabica+total_Cappuccino+total_espresso+total_Latte+total_Lungo+total_robusta\n",
    "\n",
    "print(f\"Total des ventes toutes régions confondues : {total_vente_global}$\")\n"
   ]
  },
  {
   "cell_type": "code",
   "execution_count": null,
   "metadata": {},
   "outputs": [],
   "source": [
    "import pandas as pd\n",
    "\n",
    "# Lecture du fichier CSV\n",
    "df = pd.read_csv('BeansDataSet.csv')\n",
    "\n",
    "# Somme des ventes Arabica toutes régions confondues\n",
    "vente_online=df[df['Channel']=='Online'];\n",
    "total_vente_online=vente_online[['Robusta','Arabica','Espresso','Lungo','Latte','Cappuccino']].sum().sum;\n",
    "\n",
    "print(f\"Total des ventes Online en fonction du cafe : {total_vente_online}$\")\n"
   ]
  },
  {
   "cell_type": "code",
   "execution_count": null,
   "metadata": {},
   "outputs": [],
   "source": [
    "\n",
    "import pandas as pd\n",
    "\n",
    "# Lecture du fichier CSV\n",
    "df = pd.read_csv('BeansDataSet.csv')\n",
    "\n",
    "# Somme des ventes Arabica toutes régions confondues\n",
    "vente_online=df[df['Channel']=='Online'];\n",
    "total_online_sales = vente_online.select_dtypes(include=['int64', 'float64']).sum().sum()\n",
    "\n",
    "print(f\"Total des ventes Online en fonction du cafe : {total_online_sales}$\")\n",
    "\n"
   ]
  },
  {
   "cell_type": "code",
   "execution_count": null,
   "metadata": {},
   "outputs": [],
   "source": [
    "import pandas as pd\n",
    "\n",
    "# Lecture du fichier CSV\n",
    "df = pd.read_csv('BeansDataSet.csv')\n",
    "\n",
    "# Somme des ventes Arabica toutes régions confondues\n",
    "vente_store=df[df['Channel']=='Store'];\n",
    "total_store_sales = vente_store.select_dtypes(include=['int64', 'float64']).sum().sum()\n",
    "\n",
    "print(f\"Total des ventes Online en fonction du cafe : {total_store_sales}$\")"
   ]
  },
  {
   "cell_type": "code",
   "execution_count": null,
   "metadata": {},
   "outputs": [],
   "source": [
    "import pandas as pd\n",
    "\n",
    "# Lecture du fichier CSV\n",
    "df = pd.read_csv('BeansDataSet.csv')\n",
    "\n",
    "# Somme des ventes Arabica toutes régions confondues\n",
    "vente_store_cat=df[df['Channel']=='Store'];\n",
    "total_vente_store=vente_store_cat[['Robusta','Arabica','Espresso','Lungo','Latte','Cappuccino']].sum().sum;\n",
    "\n",
    "print(f\"Total des ventes Online en fonction du cafe \\n:{total_vente_store}$\")\n"
   ]
  },
  {
   "cell_type": "code",
   "execution_count": null,
   "metadata": {},
   "outputs": [],
   "source": [
    "import pandas as pd\n",
    "\n",
    "# Charger le fichier CSV dans un DataFrame\n",
    "df = pd.read_csv('BeansDataSet.csv')\n",
    "\n",
    "# Grouper les données par région et calculer la somme des colonnes numériques\n",
    "total_sales_by_region = df.groupby('Region').sum(numeric_only=True)\n",
    "\n",
    "# Afficher le résultat\n",
    "print(\"Total des ventes par région :\")\n",
    "print(total_sales_by_region)"
   ]
  },
  {
   "cell_type": "code",
   "execution_count": null,
   "metadata": {},
   "outputs": [],
   "source": [
    "import pandas as pd\n",
    "import matplotlib.pyplot as plt\n",
    "import seaborn as sns\n",
    "import numpy as np\n",
    "\n",
    "data.hist(figsize=(15,10),bins=20,layout=(3,3),grid=True)\n",
    "plt.show()\n"
   ]
  },
  {
   "cell_type": "code",
   "execution_count": null,
   "metadata": {},
   "outputs": [],
   "source": [
    "total_sales_by_region.hist(figsize=(15,10),bins=20,layout=(3,3),grid=True)\n",
    "plt.show()"
   ]
  },
  {
   "cell_type": "code",
   "execution_count": null,
   "metadata": {},
   "outputs": [],
   "source": [
    "import pandas as pd\n",
    "import seaborn as sns\n",
    "import matplotlib.pyplot as plt\n",
    "\n",
    "\n",
    "# On regroupe les ventes par Channel (Online/Store), seulement les colonnes numériques\n",
    "grouped = df.groupby('Channel').sum(numeric_only=True).reset_index()\n",
    "\n",
    "# On \"melt\" le dataframe pour faciliter l'utilisation avec seaborn\n",
    "melted = pd.melt(grouped, id_vars='Channel', var_name='Coffee_Type', value_name='Sales')\n",
    "\n",
    "# Création du graphique\n",
    "plt.figure(figsize=(12,6))\n",
    "sns.barplot(data=melted, x='Coffee_Type', y='Sales', hue='Channel')\n",
    "plt.title('Ventes des différents cafés par canal (Online vs Store)')\n",
    "plt.xticks(rotation=45)\n",
    "plt.tight_layout()\n",
    "plt.show()\n"
   ]
  },
  {
   "cell_type": "code",
   "execution_count": null,
   "metadata": {},
   "outputs": [],
   "source": [
    "import pandas as pd\n",
    "import seaborn as sns\n",
    "import matplotlib.pyplot as plt\n",
    "\n",
    "\n",
    "# On regroupe les ventes par Channel (Online/Store) en sommant seulement les colonnes numériques\n",
    "grouped = df.groupby('Channel').sum(numeric_only=True)\n",
    "\n",
    "# Transposer pour mettre les types de café en lignes et les canaux en colonnes\n",
    "grouped = grouped.transpose().reset_index()\n",
    "grouped.columns = ['Coffee_Type', 'Online', 'Store']\n",
    "\n",
    "# Melt pour faciliter l'affichage côte à côte\n",
    "melted = pd.melt(grouped, id_vars='Coffee_Type', var_name='Channel', value_name='Sales')\n",
    "\n",
    "# Création du graphique\n",
    "plt.figure(figsize=(12,6))\n",
    "sns.barplot(data=melted, x='Coffee_Type', y='Sales', hue='Channel')\n",
    "plt.title('Ventes Online et Store par type de café')\n",
    "plt.xticks(rotation=45)\n",
    "plt.tight_layout()\n",
    "plt.show()\n"
   ]
  },
  {
   "cell_type": "code",
   "execution_count": null,
   "metadata": {},
   "outputs": [],
   "source": [
    "import pandas as pd\n",
    "import seaborn as sns\n",
    "import matplotlib.pyplot as plt\n",
    "\n",
    "\n",
    "# On regroupe les ventes par Channel (Online/Store) en sommant seulement les colonnes numériques\n",
    "grouped = df.groupby('Channel').sum(numeric_only=True)\n",
    "\n",
    "# Transposer pour mettre les types de café en lignes et les canaux en colonnes\n",
    "grouped = grouped.transpose().reset_index()\n",
    "grouped.columns = ['Coffee_Type', 'Online', 'Store']\n",
    "\n",
    "# Melt pour faciliter l'affichage côte à côte\n",
    "melted = pd.melt(grouped, id_vars='Coffee_Type', var_name='Channel', value_name='Sales')\n",
    "\n",
    "# Création du graphique\n",
    "plt.figure(figsize=(12,6))\n",
    "sns.barplot(data=melted, x='Coffee_Type', y='Sales', hue='Channel')\n",
    "plt.title('Ventes Online et Store par type de café')\n",
    "plt.xticks(rotation=45)\n",
    "plt.tight_layout()\n",
    "plt.show()\n"
   ]
  },
  {
   "cell_type": "code",
   "execution_count": null,
   "metadata": {},
   "outputs": [],
   "source": [
    "import pandas as pd\n",
    "import matplotlib.pyplot as plt\n",
    "\n",
    "\n",
    "\n",
    "# Calculer le total des ventes pour chaque ligne\n",
    "df['Total'] = df.iloc[:, 2:].sum(axis=1)\n",
    "\n",
    "# Regrouper par canal de vente et sommer les totaux\n",
    "sales_by_channel = df.groupby('Channel')['Total'].sum()\n",
    "\n",
    "# Créer l'histogramme\n",
    "channels = sales_by_channel.index\n",
    "totals = sales_by_channel.values\n",
    "\n",
    "plt.bar(channels[0], totals[0], color='blue', label='Online')\n",
    "plt.bar(channels[1], totals[1], color='green', label='Store')\n",
    "plt.title('Total Sales: Online vs Store')\n",
    "plt.xlabel('Channel')\n",
    "plt.ylabel('Total Sales')\n",
    "plt.show()\n"
   ]
  },
  {
   "cell_type": "code",
   "execution_count": null,
   "metadata": {},
   "outputs": [],
   "source": [
    "\n",
    "\n",
    "import pandas as pd\n",
    "import matplotlib.pyplot as plt\n",
    "\n",
    "# Charger le dataset\n",
    "df = pd.read_csv(\"BeansDataSet.csv\")\n",
    "\n",
    "# Calculer le total des ventes pour chaque ligne\n",
    "df['Total'] = df.iloc[:, 2:].sum(axis=1)\n",
    "\n",
    "# Regrouper les données par région et sommer les totaux\n",
    "sales_by_region = df.groupby('Region')['Total'].sum()\n",
    "\n",
    "# Créer l'histogramme\n",
    "regions = sales_by_region.index\n",
    "totals = sales_by_region.values\n",
    "\n",
    "plt.bar(regions[0], totals[0], color='red', label='Central')\n",
    "plt.bar(regions[1], totals[1], color='blue', label='North')\n",
    "plt.bar(regions[2], totals[2], color='green', label='South')\n",
    "plt.title('Total Sales by Region')\n",
    "plt.xlabel('Region')\n",
    "plt.ylabel('Total Sales')\n",
    "plt.show()\n"
   ]
  },
  {
   "cell_type": "code",
   "execution_count": null,
   "metadata": {},
   "outputs": [],
   "source": [
    "#moyenne des ventes\n"
   ]
  }
 ],
 "metadata": {
  "kernelspec": {
   "display_name": "base",
   "language": "python",
   "name": "python3"
  },
  "language_info": {
   "codemirror_mode": {
    "name": "ipython",
    "version": 3
   },
   "file_extension": ".py",
   "mimetype": "text/x-python",
   "name": "python",
   "nbconvert_exporter": "python",
   "pygments_lexer": "ipython3",
   "version": "3.12.7"
  }
 },
 "nbformat": 4,
 "nbformat_minor": 2
}
